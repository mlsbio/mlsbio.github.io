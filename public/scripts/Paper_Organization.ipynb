{
 "cells": [
  {
   "cell_type": "code",
   "execution_count": 6,
   "id": "a36a04c2-77d7-4b8e-b297-26209393e681",
   "metadata": {},
   "outputs": [],
   "source": [
    "import pandas as pd"
   ]
  },
  {
   "cell_type": "code",
   "execution_count": 12,
   "id": "488f6b4e-1494-4d98-8356-cefab16d2293",
   "metadata": {},
   "outputs": [],
   "source": [
    "df = pd.read_csv(\"/Users/vignesh/Downloads/Papers.txt\", sep=\"\\t\")"
   ]
  },
  {
   "cell_type": "code",
   "execution_count": 14,
   "id": "3a2fcbfe-6594-44ce-a57f-251bcc80aca1",
   "metadata": {},
   "outputs": [
    {
     "data": {
      "text/plain": [
       "Index(['Paper ID', 'Created', 'Last Modified', 'Paper Title', 'Abstract',\n",
       "       'Primary Contact Author Name', 'Primary Contact Author Email',\n",
       "       'Authors', 'Author Names', 'Author Emails', 'Primary Subject Area',\n",
       "       'Secondary Subject Areas', 'Conflicts', 'Assigned', 'Completed',\n",
       "       '% Completed', 'Bids', 'Discussion', 'Status',\n",
       "       'Requested For Author Feedback', 'Author Feedback Submitted?',\n",
       "       'Requested For Camera Ready', 'Camera Ready Submitted?',\n",
       "       'Requested For Presentation', 'Files', 'Number of Files',\n",
       "       'Supplementary Files', 'Number of Supplementary Files', 'Reviewers',\n",
       "       'Reviewer Emails', 'MetaReviewers', 'MetaReviewer Emails',\n",
       "       'SeniorMetaReviewers', 'SeniorMetaReviewerEmails', 'Q1 (Open-sourcing)',\n",
       "       'Q2 (Interest on PINDER and PLINDER challenges)'],\n",
       "      dtype='object')"
      ]
     },
     "execution_count": 14,
     "metadata": {},
     "output_type": "execute_result"
    }
   ],
   "source": [
    "df.columns"
   ]
  },
  {
   "cell_type": "code",
   "execution_count": 25,
   "id": "f9d49282-70c4-468a-87a1-4801fb97b80c",
   "metadata": {},
   "outputs": [],
   "source": [
    "df_accept = df[df['Status'].isin(['Accept', 'Accept - Oral'])]"
   ]
  },
  {
   "cell_type": "code",
   "execution_count": 26,
   "id": "83ade3df-cba6-48d9-a55b-5b799abd1424",
   "metadata": {},
   "outputs": [
    {
     "data": {
      "text/plain": [
       "(81, 36)"
      ]
     },
     "execution_count": 26,
     "metadata": {},
     "output_type": "execute_result"
    }
   ],
   "source": [
    "df_accept.shape"
   ]
  },
  {
   "cell_type": "code",
   "execution_count": 27,
   "id": "e36e82dd-2838-4911-98c3-7d2008279187",
   "metadata": {},
   "outputs": [
    {
     "data": {
      "text/plain": [
       "(81, 3)"
      ]
     },
     "execution_count": 27,
     "metadata": {},
     "output_type": "execute_result"
    }
   ],
   "source": [
    "columns_of_interest = [\n",
    "    'Paper ID', 'Paper Title', 'Authors'\n",
    "]\n",
    "df_accept = df_accept[columns_of_interest]\n",
    "df_accept.shape"
   ]
  },
  {
   "cell_type": "code",
   "execution_count": 28,
   "id": "3adcb440-71d6-4173-819b-acd3fc58ba85",
   "metadata": {},
   "outputs": [
    {
     "data": {
      "text/html": [
       "<div>\n",
       "<style scoped>\n",
       "    .dataframe tbody tr th:only-of-type {\n",
       "        vertical-align: middle;\n",
       "    }\n",
       "\n",
       "    .dataframe tbody tr th {\n",
       "        vertical-align: top;\n",
       "    }\n",
       "\n",
       "    .dataframe thead th {\n",
       "        text-align: right;\n",
       "    }\n",
       "</style>\n",
       "<table border=\"1\" class=\"dataframe\">\n",
       "  <thead>\n",
       "    <tr style=\"text-align: right;\">\n",
       "      <th></th>\n",
       "      <th>Paper ID</th>\n",
       "      <th>Paper Title</th>\n",
       "      <th>Authors</th>\n",
       "    </tr>\n",
       "  </thead>\n",
       "  <tbody>\n",
       "    <tr>\n",
       "      <th>0</th>\n",
       "      <td>1</td>\n",
       "      <td>LatentDE: Latent-based Directed Evolution acce...</td>\n",
       "      <td>Thanh Tran (FPT Software AI Center); Nhat Khan...</td>\n",
       "    </tr>\n",
       "    <tr>\n",
       "      <th>1</th>\n",
       "      <td>2</td>\n",
       "      <td>Assessing interaction recovery of predicted pr...</td>\n",
       "      <td>Frederic Dreyer (Genentech)*; David Errington ...</td>\n",
       "    </tr>\n",
       "    <tr>\n",
       "      <th>2</th>\n",
       "      <td>3</td>\n",
       "      <td>Improving Inverse Folding models at Protein St...</td>\n",
       "      <td>Oliver Dutton (Peptone Ltd); Sandro Bottaro (P...</td>\n",
       "    </tr>\n",
       "    <tr>\n",
       "      <th>3</th>\n",
       "      <td>4</td>\n",
       "      <td>Improving Antibody Design with Force-Guided Sa...</td>\n",
       "      <td>Paulina Kulyte (University of Cambridge)*; Fra...</td>\n",
       "    </tr>\n",
       "    <tr>\n",
       "      <th>4</th>\n",
       "      <td>5</td>\n",
       "      <td>Equivariant Blurring Diffusion for Multiscale ...</td>\n",
       "      <td>Jiwoong Park (Texas A&amp;M University)*; Yang She...</td>\n",
       "    </tr>\n",
       "  </tbody>\n",
       "</table>\n",
       "</div>"
      ],
      "text/plain": [
       "   Paper ID                                        Paper Title  \\\n",
       "0         1  LatentDE: Latent-based Directed Evolution acce...   \n",
       "1         2  Assessing interaction recovery of predicted pr...   \n",
       "2         3  Improving Inverse Folding models at Protein St...   \n",
       "3         4  Improving Antibody Design with Force-Guided Sa...   \n",
       "4         5  Equivariant Blurring Diffusion for Multiscale ...   \n",
       "\n",
       "                                             Authors  \n",
       "0  Thanh Tran (FPT Software AI Center); Nhat Khan...  \n",
       "1  Frederic Dreyer (Genentech)*; David Errington ...  \n",
       "2  Oliver Dutton (Peptone Ltd); Sandro Bottaro (P...  \n",
       "3  Paulina Kulyte (University of Cambridge)*; Fra...  \n",
       "4  Jiwoong Park (Texas A&M University)*; Yang She...  "
      ]
     },
     "execution_count": 28,
     "metadata": {},
     "output_type": "execute_result"
    }
   ],
   "source": [
    "df_accept.head()"
   ]
  },
  {
   "cell_type": "code",
   "execution_count": 31,
   "id": "8021e353-4174-40d9-836d-be0cf78233b0",
   "metadata": {},
   "outputs": [
    {
     "data": {
      "text/plain": [
       "'Assessing_interaction_recovery_of_predicted_protein-ligand_poses.pdf'"
      ]
     },
     "execution_count": 31,
     "metadata": {},
     "output_type": "execute_result"
    }
   ],
   "source": [
    "def construct_pdf_title(paper_title):\n",
    "    pdf_title = \"_\".join(paper_title.split(\" \"))\n",
    "    pdf_title += \".pdf\"\n",
    "    return pdf_title\n",
    "\n",
    "construct_pdf_title(df_accept.iloc[1][\"Paper Title\"])"
   ]
  },
  {
   "cell_type": "code",
   "execution_count": 76,
   "id": "3978f112-dbe6-456e-a9cc-727c0ababad2",
   "metadata": {},
   "outputs": [
    {
     "data": {
      "text/plain": [
       "['Frederic Dreyer',\n",
       " 'David Errington',\n",
       " 'Cedric Bouysset',\n",
       " 'Constantin Schneider']"
      ]
     },
     "execution_count": 76,
     "metadata": {},
     "output_type": "execute_result"
    }
   ],
   "source": [
    "import re\n",
    "\n",
    "def gather_author_names(author_str):\n",
    "    authors = author_str.split(\";\")\n",
    "    authors = [re.sub(r'\\([^)]*\\)', '', author).strip() \n",
    "               for author in authors]\n",
    "    authors = [re.sub(r'\\*', '', author).strip() for author in authors]\n",
    "    return authors\n",
    "\n",
    "gather_author_names(df_accept.iloc[1][\"Authors\"])"
   ]
  },
  {
   "cell_type": "code",
   "execution_count": 58,
   "id": "c52a4978-eb5a-446f-87bc-9a5c0ad54e19",
   "metadata": {},
   "outputs": [],
   "source": [
    "import os\n",
    "import shutil"
   ]
  },
  {
   "cell_type": "code",
   "execution_count": 42,
   "id": "fcb81656-0360-42f0-ac4e-4d8f4590c484",
   "metadata": {},
   "outputs": [],
   "source": [
    "os.makedirs(\"papers_2024\")"
   ]
  },
  {
   "cell_type": "code",
   "execution_count": 53,
   "id": "1c1d6d36-3f12-46b0-8b5a-2a36afaf0438",
   "metadata": {},
   "outputs": [],
   "source": [
    "included_ids = []\n",
    "\n",
    "for idx in range(df_accept.shape[0]):\n",
    "    paper_title = df_accept.iloc[idx][\"Paper Title\"]\n",
    "    pdf_title = construct_pdf_title(paper_title)\n",
    "\n",
    "    author_str = df_accept.iloc[idx][\"Authors\"]\n",
    "    paper_id = df_accept.iloc[idx][\"Paper ID\"]\n",
    "\n",
    "    base_dir = f\"/Users/vignesh/Downloads/CameraReadys/{paper_id}/\"\n",
    "    \n",
    "    if os.path.exists(base_dir):\n",
    "        files_of_interest = os.listdir(f\"{base_dir}/CameraReady/\")\n",
    "        if len(files_of_interest):\n",
    "            filename = files_of_interest[0]\n",
    "            new_filename = f\"papers_2024/{pdf_title}\"\n",
    "            shutil.copyfile(\n",
    "                f\"{base_dir}/CameraReady/{filename}\",\n",
    "                new_filename\n",
    "            )\n",
    "            included_ids.append(paper_id)"
   ]
  },
  {
   "cell_type": "code",
   "execution_count": 77,
   "id": "508c518c-f7dc-47b2-b7b7-c4098a44492b",
   "metadata": {},
   "outputs": [],
   "source": [
    "def construct_html_syntax(series):\n",
    "    paper_title = series[\"Paper Title\"]\n",
    "    pdf_title = construct_pdf_title(paper_title)\n",
    "    author_str = series[\"Authors\"]\n",
    "\n",
    "    authors = gather_author_names(author_str)\n",
    "    author_html = \", \".join(authors)\n",
    "\n",
    "    html_syntax = \"<li>\\n\"\n",
    "    html_syntax += f'<p class=\"title\">{paper_title}</p>\\n'\n",
    "    html_syntax += f'<p class=\"authors\">{author_html}</p>\\n'\n",
    "    html_syntax += f'<p class=\"preprints\"><a href=\"/papers_2024/{pdf_title}\">[paper]</a></p>\\n'\n",
    "    html_syntax += \"</li>\\n\"\n",
    "\n",
    "    return html_syntax"
   ]
  },
  {
   "cell_type": "code",
   "execution_count": 78,
   "id": "a2c2f806-5f4f-455c-9acb-1690cc5d9cba",
   "metadata": {},
   "outputs": [],
   "source": [
    "with open(\"papers_2024.txt\", \"a\") as f:\n",
    "    for idx in range(df_accept.shape[0]):\n",
    "        html_syntax = construct_html_syntax(df_accept.iloc[idx])\n",
    "        f.write(html_syntax)"
   ]
  },
  {
   "cell_type": "code",
   "execution_count": 75,
   "id": "dc5f7770-0910-407c-934c-adbb1ace50c0",
   "metadata": {},
   "outputs": [
    {
     "data": {
      "text/plain": [
       "<re.Match object; span=(0, 1), match='*'>"
      ]
     },
     "execution_count": 75,
     "metadata": {},
     "output_type": "execute_result"
    }
   ],
   "source": [
    "re.search(r'\\*', \"*123\")"
   ]
  },
  {
   "cell_type": "code",
   "execution_count": null,
   "id": "87834c62-a67d-49be-891e-2a505bf5db91",
   "metadata": {},
   "outputs": [],
   "source": []
  }
 ],
 "metadata": {
  "kernelspec": {
   "display_name": "activediff",
   "language": "python",
   "name": "activediff"
  },
  "language_info": {
   "codemirror_mode": {
    "name": "ipython",
    "version": 3
   },
   "file_extension": ".py",
   "mimetype": "text/x-python",
   "name": "python",
   "nbconvert_exporter": "python",
   "pygments_lexer": "ipython3",
   "version": "3.11.10"
  }
 },
 "nbformat": 4,
 "nbformat_minor": 5
}
